{
 "cells": [
  {
   "cell_type": "code",
   "execution_count": 6,
   "metadata": {},
   "outputs": [
    {
     "name": "stdout",
     "output_type": "stream",
     "text": [
      "Sentence: The staff was incredibly helpful and made my flight very comfortable.\n",
      "Classification: Positive\n",
      "\n",
      "Sentence: Loved the extra legroom and the friendly service onboard.\n",
      "Classification: Positive\n",
      "\n",
      "Sentence: The check-in process was smooth and efficient—great experience!\n",
      "Classification: Positive\n",
      "\n",
      "Sentence: Hele fijne vlucht, alles verliep vlekkeloos en op tijd.\n",
      "Classification: Positive\n",
      "\n",
      "Sentence: Un service exceptionnel et un personnel très attentionné.\n",
      "Classification: Positive\n",
      "\n"
     ]
    }
   ],
   "source": [
    "import ollama\n",
    "\n",
    "# Your custom prompt\n",
    "prompt = \"I will give you a feedback sentence and you should classify it as positive or negative. PLEASE ONLY ANSWER\\n...\\n... ... WITH ONE WORD\"\n",
    "\n",
    "# List of sarcastic feedbacks\n",
    "feedback_sentences = [\n",
    "    \"The staff was incredibly helpful and made my flight very comfortable.\",\n",
    "    \"Loved the extra legroom and the friendly service onboard.\",\n",
    "    \"The check-in process was smooth and efficient—great experience!\",\n",
    "    \"Hele fijne vlucht, alles verliep vlekkeloos en op tijd.\",\n",
    "    \"Un service exceptionnel et un personnel très attentionné.\"\n",
    "]\n",
    "\n",
    "# Call model and print responses\n",
    "for sentence in feedback_sentences:\n",
    "    full_prompt = f\"{prompt}\\n\\n{sentence}\"\n",
    "    response = ollama.chat(model=\"gemma3:4b-it-qat\", messages=[{\"role\": \"user\", \"content\": full_prompt}])\n",
    "    classification = response['message']['content'].strip()\n",
    "    print(f\"Sentence: {sentence}\\nClassification: {classification}\\n\")\n"
   ]
  }
 ],
 "metadata": {
  "kernelspec": {
   "display_name": "Python 3",
   "language": "python",
   "name": "python3"
  },
  "language_info": {
   "codemirror_mode": {
    "name": "ipython",
    "version": 3
   },
   "file_extension": ".py",
   "mimetype": "text/x-python",
   "name": "python",
   "nbconvert_exporter": "python",
   "pygments_lexer": "ipython3",
   "version": "3.12.6"
  }
 },
 "nbformat": 4,
 "nbformat_minor": 5
}
