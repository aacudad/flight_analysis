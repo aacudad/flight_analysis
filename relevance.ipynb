{
 "cells": [
  {
   "cell_type": "code",
   "execution_count": 7,
   "id": "a26818ce",
   "metadata": {},
   "outputs": [
    {
     "name": "stdout",
     "output_type": "stream",
     "text": [
      "Sentence: The transfer page was super easy to use and helped me find my gate without stress.\n",
      "Rating: 5\n",
      "Relevance: Relevant\n",
      "\n",
      "Sentence: 5 stars for the transfer updates! Real-time info was exactly what I needed.\n",
      "Rating: 5\n",
      "Relevance: Relevant\n",
      "\n",
      "Sentence: Great interface on the transfer page, everything was clear and fast.\n",
      "Rating: 5\n",
      "Relevance: Relevant\n",
      "\n",
      "Sentence: My flight was delayed for hours, very frustrating.\n",
      "Rating: 2\n",
      "Relevance: Not Relevant\n",
      "\n",
      "Sentence: Thank you KLM for the friendly stewards and great in-flight experience.\n",
      "Rating: 4\n",
      "Relevance: Not Relevant\n",
      "\n"
     ]
    }
   ],
   "source": [
    "import ollama\n",
    "\n",
    "# More concise and general prompt for transfer page relevance classification\n",
    "prompt = (\n",
    "    \"I will give you a feedback sentence and you should classify whether it is relevant to the transfer page. \"\n",
    "    \"The transfer page provides logistical information to help passengers navigate their connection, such as gates and timing. \"\n",
    "    \"ONLY ANSWER WITH ONE WORD: Relevant or Not Relevant.\"\n",
    ")\n",
    "\n",
    "# Feedbacks including compliments and unrelated mentions, now with ratings\n",
    "feedback_data = [\n",
    "    {\"sentence\": \"The transfer page was super easy to use and helped me find my gate without stress.\", \"rating\": 5},\n",
    "    {\"sentence\": \"5 stars for the transfer updates! Real-time info was exactly what I needed.\", \"rating\": 5},\n",
    "    {\"sentence\": \"Great interface on the transfer page, everything was clear and fast.\", \"rating\": 5},\n",
    "    {\"sentence\": \"My flight was delayed for hours, very frustrating.\", \"rating\": 2},\n",
    "    {\"sentence\": \"Thank you KLM for the friendly stewards and great in-flight experience.\", \"rating\": 4}\n",
    "]\n",
    "\n",
    "# Call model and print responses for transfer relevance\n",
    "for feedback in feedback_data:\n",
    "    sentence = feedback[\"sentence\"]\n",
    "    rating = feedback[\"rating\"]\n",
    "    full_prompt = f\"{prompt}\\n\\n{sentence}\"\n",
    "    response = ollama.chat(model=\"gemma3:4b-it-qat\", messages=[{\"role\": \"user\", \"content\": full_prompt}])\n",
    "    classification = response['message']['content'].strip()\n",
    "    print(f\"Sentence: {sentence}\\nRating: {rating}\\nRelevance: {classification}\\n\")"
   ]
  }
 ],
 "metadata": {
  "kernelspec": {
   "display_name": "Python 3",
   "language": "python",
   "name": "python3"
  },
  "language_info": {
   "codemirror_mode": {
    "name": "ipython",
    "version": 3
   },
   "file_extension": ".py",
   "mimetype": "text/x-python",
   "name": "python",
   "nbconvert_exporter": "python",
   "pygments_lexer": "ipython3",
   "version": "3.12.6"
  }
 },
 "nbformat": 4,
 "nbformat_minor": 5
}
